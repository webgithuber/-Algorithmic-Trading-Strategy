{
 "cells": [
  {
   "cell_type": "code",
   "execution_count": 1,
   "id": "543c1889-438d-4976-ae1d-45145f4a9ecf",
   "metadata": {
    "tags": []
   },
   "outputs": [
    {
     "ename": "NameError",
     "evalue": "name 'ZV1IB9O35EVV8KZG' is not defined",
     "output_type": "error",
     "traceback": [
      "\u001b[1;31m---------------------------------------------------------------------------\u001b[0m",
      "\u001b[1;31mNameError\u001b[0m                                 Traceback (most recent call last)",
      "Cell \u001b[1;32mIn[1], line 1\u001b[0m\n\u001b[1;32m----> 1\u001b[0m API_KEY\u001b[38;5;241m=\u001b[39m\u001b[43mZV1IB9O35EVV8KZG\u001b[49m\n",
      "\u001b[1;31mNameError\u001b[0m: name 'ZV1IB9O35EVV8KZG' is not defined"
     ]
    }
   ],
   "source": [
    "API_KEY=ZV1IB9O35EVV8KZG"
   ]
  },
  {
   "cell_type": "code",
   "execution_count": null,
   "id": "25a7f094-ffd4-43ab-bf1b-fcc1d486f551",
   "metadata": {},
   "outputs": [],
   "source": []
  }
 ],
 "metadata": {
  "kernelspec": {
   "display_name": "Python 3 (ipykernel)",
   "language": "python",
   "name": "python3"
  },
  "language_info": {
   "codemirror_mode": {
    "name": "ipython",
    "version": 3
   },
   "file_extension": ".py",
   "mimetype": "text/x-python",
   "name": "python",
   "nbconvert_exporter": "python",
   "pygments_lexer": "ipython3",
   "version": "3.9.6"
  }
 },
 "nbformat": 4,
 "nbformat_minor": 5
}
